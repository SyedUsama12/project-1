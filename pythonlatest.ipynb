{
 "cells": [
  {
   "cell_type": "raw",
   "id": "alleged-immunology",
   "metadata": {},
   "source": [
    " Write a Python program to find those numbers which are divisible by 6 and multiple of 5, between 500 and 1700 (both included)\n",
    "b) Write a Python program to get the Fibonacci series between 20 to 60.\n",
    "c) convert two lists into a dictionary \n",
    "l1=['Ali','Ahmed','Khizar','Zoya','Jan','Dan']\n",
    "l2=['1','32','41','63','23','90']\n"
   ]
  },
  {
   "cell_type": "raw",
   "id": "level-bulletin",
   "metadata": {},
   "source": [
    " Write a Python program to find those numbers which are divisible by 6 and multiple of 5, between 500 and 1700 (both included)"
   ]
  },
  {
   "cell_type": "code",
   "execution_count": 9,
   "id": "introductory-reservoir",
   "metadata": {},
   "outputs": [
    {
     "name": "stdout",
     "output_type": "stream",
     "text": [
      "510,540,570,600,630,660,690,720,750,780,810,840,870,900,930,960,990,1020,1050,1080,1110,1140,1170,1200,1230,1260,1290,1320,1350,1380,1410,1440,1470,1500,1530,1560,1590,1620,1650,1680\n"
     ]
    }
   ],
   "source": [
    "a =[]\n",
    "for x in range(500,1700):\n",
    "    if(x%6==0) and (x%5==0):\n",
    "        a.append(str(x))\n",
    "print(\",\".join(a))"
   ]
  },
  {
   "cell_type": "raw",
   "id": "received-reggae",
   "metadata": {},
   "source": [
    "Write a Python program to get the Fibonacci series between 20 to 60."
   ]
  },
  {
   "cell_type": "code",
   "execution_count": 8,
   "id": "distinct-placement",
   "metadata": {},
   "outputs": [
    {
     "name": "stdout",
     "output_type": "stream",
     "text": [
      "20\n",
      "40\n"
     ]
    }
   ],
   "source": [
    "x=0\n",
    "y=20\n",
    "while y<60:\n",
    "    print(y)\n",
    "    x=y\n",
    "    y=x+y\n",
    "    "
   ]
  },
  {
   "cell_type": "raw",
   "id": "standing-porcelain",
   "metadata": {},
   "source": [
    " convert two lists into a dictionary \n",
    "l1=['Ali','Ahmed','Khizar','Zoya','Jan','Dan']\n",
    "l2=['1','32','41','63','23','90']"
   ]
  },
  {
   "cell_type": "code",
   "execution_count": 12,
   "id": "creative-chorus",
   "metadata": {},
   "outputs": [
    {
     "data": {
      "text/plain": [
       "{'Ali': '1',\n",
       " 'Ahmed': '32',\n",
       " 'Khizar': '41',\n",
       " 'Zoya': '63',\n",
       " 'Jan': '23',\n",
       " 'Dan': '90'}"
      ]
     },
     "execution_count": 12,
     "metadata": {},
     "output_type": "execute_result"
    }
   ],
   "source": [
    "l1=['Ali','Ahmed','Khizar','Zoya','Jan','Dan']\n",
    "l2=['1','32','41','63','23','90']\n",
    "d1=zip(l1,l2)\n",
    "dict(d1)"
   ]
  },
  {
   "cell_type": "code",
   "execution_count": null,
   "id": "differential-found",
   "metadata": {},
   "outputs": [],
   "source": []
  }
 ],
 "metadata": {
  "kernelspec": {
   "display_name": "Python 3",
   "language": "python",
   "name": "python3"
  },
  "language_info": {
   "codemirror_mode": {
    "name": "ipython",
    "version": 3
   },
   "file_extension": ".py",
   "mimetype": "text/x-python",
   "name": "python",
   "nbconvert_exporter": "python",
   "pygments_lexer": "ipython3",
   "version": "3.6.13"
  }
 },
 "nbformat": 4,
 "nbformat_minor": 5
}
