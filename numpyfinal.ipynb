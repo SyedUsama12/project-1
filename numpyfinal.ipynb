{
 "cells": [
  {
   "cell_type": "raw",
   "id": "confirmed-genre",
   "metadata": {},
   "source": [
    "\n",
    "Numpy Question\n",
    "a) Create a random vector of size 15 and sort it\n",
    "b) Create a vector of size 15 with values ranging from 2 to 18, both excluded \n",
    "c) How to find common values between two arrays?\n",
    "d) How to add a border (filled with 5's) around an existing array?\n",
    "e) Create a checkerboard 6x6 matrix using the tile function \n",
    "f) Normalize a 4x4 random matrix. hint: normalise : ((x-mean)/sd)\n",
    "g) using numpy How to get the dates of yesterday\n",
    "h) Create a 5x5 matrix with row values ranging from 0 to -4. (0,-1,-2 etc)"
   ]
  },
  {
   "cell_type": "code",
   "execution_count": 2,
   "id": "after-visitor",
   "metadata": {},
   "outputs": [],
   "source": [
    "import numpy as np"
   ]
  },
  {
   "cell_type": "raw",
   "id": "generic-profile",
   "metadata": {},
   "source": [
    "Create a random vector of size 15 and sort it"
   ]
  },
  {
   "cell_type": "code",
   "execution_count": 6,
   "id": "colonial-palmer",
   "metadata": {},
   "outputs": [
    {
     "name": "stdout",
     "output_type": "stream",
     "text": [
      "[0.37482091 0.05953103 0.65662165 0.16643275 0.59656035 0.44492388\n",
      " 0.21983514 0.72956233 0.39817441 0.424256   0.48611408 0.16782742\n",
      " 0.70674097 0.72764579 0.78296446]\n",
      "[0.05953103 0.16643275 0.16782742 0.21983514 0.37482091 0.39817441\n",
      " 0.424256   0.44492388 0.48611408 0.59656035 0.65662165 0.70674097\n",
      " 0.72764579 0.72956233 0.78296446]\n"
     ]
    }
   ],
   "source": [
    "x=np.random.random(15)\n",
    "print(x)\n",
    "x.sort()\n",
    "print(x)"
   ]
  },
  {
   "cell_type": "raw",
   "id": "capital-swedish",
   "metadata": {},
   "source": [
    "Create a vector of size 15 with values ranging from 2 to 18, both excluded"
   ]
  },
  {
   "cell_type": "code",
   "execution_count": 8,
   "id": "focused-cocktail",
   "metadata": {},
   "outputs": [
    {
     "data": {
      "text/plain": [
       "array([ 3,  4,  5,  6,  7,  8,  9, 10, 11, 12, 13, 14, 15, 16, 17])"
      ]
     },
     "execution_count": 8,
     "metadata": {},
     "output_type": "execute_result"
    }
   ],
   "source": [
    "v = np.arange(3,18)\n",
    "v"
   ]
  },
  {
   "cell_type": "raw",
   "id": "assisted-submission",
   "metadata": {},
   "source": [
    "How to find common values between two arrays?"
   ]
  },
  {
   "cell_type": "code",
   "execution_count": 12,
   "id": "featured-marble",
   "metadata": {},
   "outputs": [
    {
     "data": {
      "text/plain": [
       "array([4, 5])"
      ]
     },
     "execution_count": 12,
     "metadata": {},
     "output_type": "execute_result"
    }
   ],
   "source": [
    "a = np.array([0,1,2,3,4,5])\n",
    "b=np.array([4,5,6,7,8])\n",
    "np.intersect1d(a,b)"
   ]
  },
  {
   "cell_type": "raw",
   "id": "sunset-bobby",
   "metadata": {},
   "source": [
    "How to add a border (filled with 5's) around an existing array?"
   ]
  },
  {
   "cell_type": "code",
   "execution_count": 15,
   "id": "seeing-block",
   "metadata": {},
   "outputs": [
    {
     "data": {
      "text/plain": [
       "array([5, 0, 1, 2, 3, 4, 5, 5])"
      ]
     },
     "execution_count": 15,
     "metadata": {},
     "output_type": "execute_result"
    }
   ],
   "source": [
    "f =np.pad(a,pad_width=1,mode=\"constant\",constant_values=5)\n",
    "f"
   ]
  },
  {
   "cell_type": "raw",
   "id": "communist-groove",
   "metadata": {},
   "source": [
    "Create a checkerboard 6x6 matrix using the tile function "
   ]
  },
  {
   "cell_type": "code",
   "execution_count": 16,
   "id": "piano-child",
   "metadata": {},
   "outputs": [
    {
     "data": {
      "text/plain": [
       "array([[0, 1, 0, 1, 0, 1],\n",
       "       [1, 0, 1, 0, 1, 0],\n",
       "       [0, 1, 0, 1, 0, 1],\n",
       "       [1, 0, 1, 0, 1, 0],\n",
       "       [0, 1, 0, 1, 0, 1],\n",
       "       [1, 0, 1, 0, 1, 0]])"
      ]
     },
     "execution_count": 16,
     "metadata": {},
     "output_type": "execute_result"
    }
   ],
   "source": [
    "x=np.zeros((6,6),dtype =int)\n",
    "x[1::2,::2]=1\n",
    "x[::2,1::2]=1\n",
    "x"
   ]
  },
  {
   "cell_type": "raw",
   "id": "active-principle",
   "metadata": {},
   "source": [
    "Normalize a 4x4 random matrix. hint: normalise : ((x-mean)/sd)\n",
    "        "
   ]
  },
  {
   "cell_type": "code",
   "execution_count": 5,
   "id": "square-niger",
   "metadata": {},
   "outputs": [
    {
     "name": "stdout",
     "output_type": "stream",
     "text": [
      "Original Array:\n",
      "[[0.26093541 0.74994547 0.70898768 0.16774694]\n",
      " [0.85530446 0.99813368 0.9435254  0.09295235]\n",
      " [0.03371309 0.26501955 0.27194728 0.74732059]\n",
      " [0.05316312 0.01281993 0.91719307 0.76419343]]\n",
      "After normalization:\n",
      "[[0.25181367 0.74811251 0.70654423 0.15723622]\n",
      " [0.85504189 1.         0.94457777 0.0813268 ]\n",
      " [0.02120458 0.25595869 0.26298969 0.74544851]\n",
      " [0.04094451 0.         0.91785296 0.76257283]]\n"
     ]
    }
   ],
   "source": [
    "x= np.random.random((4,4))\n",
    "print(\"Original Array:\")\n",
    "print(x)\n",
    "xmax, xmin = x.max(), x.min()\n",
    "x = (x - xmin)/(xmax - xmin)\n",
    "print(\"After normalization:\")\n",
    "print(x)\n",
    "#can also use normalize function( from sklearn.preprocessing import normalize)"
   ]
  },
  {
   "cell_type": "raw",
   "id": "recognized-carrier",
   "metadata": {},
   "source": [
    "using numpy How to get the dates of yesterday"
   ]
  },
  {
   "cell_type": "code",
   "execution_count": 26,
   "id": "genetic-diana",
   "metadata": {},
   "outputs": [
    {
     "data": {
      "text/plain": [
       "numpy.datetime64('2021-08-06')"
      ]
     },
     "execution_count": 26,
     "metadata": {},
     "output_type": "execute_result"
    }
   ],
   "source": [
    "g=np.datetime64(\"today\",\"D\")\n",
    "g"
   ]
  },
  {
   "cell_type": "code",
   "execution_count": 27,
   "id": "timely-workstation",
   "metadata": {},
   "outputs": [
    {
     "data": {
      "text/plain": [
       "numpy.datetime64('2021-08-05')"
      ]
     },
     "execution_count": 27,
     "metadata": {},
     "output_type": "execute_result"
    }
   ],
   "source": [
    "yesterday_Date=g-np.timedelta64(1,\"D\")\n",
    "yesterday_Date"
   ]
  },
  {
   "cell_type": "markdown",
   "id": "three-detroit",
   "metadata": {},
   "source": [
    "Create a 5x5 matrix with row values ranging from 0 to -4. (0,-1,-2 etc)"
   ]
  },
  {
   "cell_type": "code",
   "execution_count": 4,
   "id": "endless-fantasy",
   "metadata": {},
   "outputs": [
    {
     "name": "stdout",
     "output_type": "stream",
     "text": [
      "[[-4. -3. -2. -1.  0.]\n",
      " [-4. -3. -2. -1.  0.]\n",
      " [-4. -3. -2. -1.  0.]\n",
      " [-4. -3. -2. -1.  0.]\n",
      " [-4. -3. -2. -1.  0.]]\n"
     ]
    }
   ],
   "source": [
    "Z = np.zeros((5,5))\n",
    "Z += np.arange(-4,1)\n",
    "print(Z)"
   ]
  }
 ],
 "metadata": {
  "kernelspec": {
   "display_name": "Python 3",
   "language": "python",
   "name": "python3"
  },
  "language_info": {
   "codemirror_mode": {
    "name": "ipython",
    "version": 3
   },
   "file_extension": ".py",
   "mimetype": "text/x-python",
   "name": "python",
   "nbconvert_exporter": "python",
   "pygments_lexer": "ipython3",
   "version": "3.6.13"
  }
 },
 "nbformat": 4,
 "nbformat_minor": 5
}
